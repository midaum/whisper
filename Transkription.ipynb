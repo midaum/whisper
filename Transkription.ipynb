{
 "cells": [
  {
   "cell_type": "markdown",
   "metadata": {},
   "source": [
    "Die kommenden zwei Codezellen entalten den Code aus der Readme"
   ]
  },
  {
   "cell_type": "code",
   "execution_count": null,
   "metadata": {},
   "outputs": [],
   "source": [
    "!pip install git+https://github.com/openai/whisper.git\n",
    "!pip install blobfile"
   ]
  },
  {
   "cell_type": "code",
   "execution_count": null,
   "metadata": {},
   "outputs": [],
   "source": [
    "!pip install torch\n",
    "!pip install imageio[ffmpeg]"
   ]
  },
  {
   "cell_type": "markdown",
   "metadata": {},
   "source": [
    "Die folgende Zelle führt die Transkription aus."
   ]
  },
  {
   "cell_type": "code",
   "execution_count": null,
   "metadata": {},
   "outputs": [],
   "source": [
    "import whisper\n",
    "import os\n",
    "\n",
    "# Absoluten Pfad zur Datei ermitteln\n",
    "audio_file = os.path.abspath(\"Pfad zu Datei.m4a\") # Kann auch eine andere Audio-Datei sein\n",
    "print(f\"Absoluter Pfad zur Datei: {audio_file}\")\n",
    "\n",
    "# Überprüfen, ob die Datei existiert\n",
    "if not os.path.isfile(audio_file):\n",
    "    raise FileNotFoundError(f\"Die Datei {audio_file} wurde nicht gefunden.\")\n",
    "else:\n",
    "    print(f\"Die Datei {audio_file} wurde gefunden.\")\n",
    "\n",
    "# Whisper-Modell laden\n",
    "model = whisper.load_model(\"medium\")  # Es kann zwischen \"small\", \"medium\", oder \"large\" unterschieden werden um ie Genauigkeit zu erhöhen.\n",
    "\n",
    "# Transkription starten\n",
    "print(\"Transkription wird ausgeführt...\")\n",
    "result = model.transcribe(audio_file)\n",
    "\n",
    "# Transkribierten Text anzeigen\n",
    "transcribed_text = result[\"text\"]\n",
    "print(\"Transkribierter Text:\")\n",
    "print(transcribed_text)\n",
    "\n",
    "# Text formatieren: Nach jedem Punkt eine neue Zeile\n",
    "formatted_text = transcribed_text.replace('. ', '.\\n')\n",
    "\n",
    "# Formatierten Text anzeigen\n",
    "print(\"Formatierter Text:\")\n",
    "print(formatted_text)\n",
    "\n",
    "# Optional: Formatierten Text in einer Datei speichern\n",
    "with open(\"Name_der_Datei\", \"w\", encoding=\"utf-8\") as f:\n",
    "    f.write(formatted_text)\n",
    "print(\"Formatierte Transkription gespeichert in 'Name_der_Datei'\")"
   ]
  }
 ],
 "metadata": {
  "kernelspec": {
   "display_name": "Python 3",
   "language": "python",
   "name": "python3"
  },
  "language_info": {
   "codemirror_mode": {
    "name": "ipython",
    "version": 3
   },
   "file_extension": ".py",
   "mimetype": "text/x-python",
   "name": "python",
   "nbconvert_exporter": "python",
   "pygments_lexer": "ipython3",
   "version": "3.12.3"
  }
 },
 "nbformat": 4,
 "nbformat_minor": 2
}
