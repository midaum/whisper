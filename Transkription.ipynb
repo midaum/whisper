{
 "cells": [
  {
   "cell_type": "code",
   "execution_count": 5,
   "metadata": {},
   "outputs": [
    {
     "name": "stdout",
     "output_type": "stream",
     "text": [
      "Collecting git+https://github.com/openai/whisper.git\n",
      "  Cloning https://github.com/openai/whisper.git to c:\\users\\miche\\appdata\\local\\temp\\pip-req-build-e10b0x4z\n",
      "  Resolved https://github.com/openai/whisper.git to commit 517a43ecd132a2089d85f4ebc044728a71d49f6e\n",
      "  Installing build dependencies: started\n",
      "  Installing build dependencies: finished with status 'done'\n",
      "  Getting requirements to build wheel: started\n",
      "  Getting requirements to build wheel: finished with status 'done'\n",
      "  Preparing metadata (pyproject.toml): started\n",
      "  Preparing metadata (pyproject.toml): finished with status 'done'\n",
      "Requirement already satisfied: more-itertools in c:\\users\\miche\\appdata\\local\\programs\\python\\python312\\lib\\site-packages (from openai-whisper==20240930) (10.6.0)\n",
      "Requirement already satisfied: numba in c:\\users\\miche\\appdata\\local\\programs\\python\\python312\\lib\\site-packages (from openai-whisper==20240930) (0.61.0)\n",
      "Requirement already satisfied: numpy in c:\\users\\miche\\appdata\\local\\programs\\python\\python312\\lib\\site-packages (from openai-whisper==20240930) (1.26.4)\n",
      "Requirement already satisfied: tiktoken in c:\\users\\miche\\appdata\\local\\programs\\python\\python312\\lib\\site-packages (from openai-whisper==20240930) (0.8.0)\n",
      "Requirement already satisfied: torch in c:\\users\\miche\\appdata\\local\\programs\\python\\python312\\lib\\site-packages (from openai-whisper==20240930) (2.6.0)\n",
      "Requirement already satisfied: tqdm in c:\\users\\miche\\appdata\\local\\programs\\python\\python312\\lib\\site-packages (from openai-whisper==20240930) (4.66.4)\n",
      "Requirement already satisfied: llvmlite<0.45,>=0.44.0dev0 in c:\\users\\miche\\appdata\\local\\programs\\python\\python312\\lib\\site-packages (from numba->openai-whisper==20240930) (0.44.0)\n",
      "Requirement already satisfied: regex>=2022.1.18 in c:\\users\\miche\\appdata\\local\\programs\\python\\python312\\lib\\site-packages (from tiktoken->openai-whisper==20240930) (2024.11.6)\n",
      "Requirement already satisfied: requests>=2.26.0 in c:\\users\\miche\\appdata\\local\\programs\\python\\python312\\lib\\site-packages (from tiktoken->openai-whisper==20240930) (2.31.0)\n",
      "Requirement already satisfied: filelock in c:\\users\\miche\\appdata\\local\\programs\\python\\python312\\lib\\site-packages (from torch->openai-whisper==20240930) (3.17.0)\n",
      "Requirement already satisfied: typing-extensions>=4.10.0 in c:\\users\\miche\\appdata\\local\\programs\\python\\python312\\lib\\site-packages (from torch->openai-whisper==20240930) (4.12.2)\n",
      "Requirement already satisfied: networkx in c:\\users\\miche\\appdata\\local\\programs\\python\\python312\\lib\\site-packages (from torch->openai-whisper==20240930) (3.4.2)\n",
      "Requirement already satisfied: jinja2 in c:\\users\\miche\\appdata\\local\\programs\\python\\python312\\lib\\site-packages (from torch->openai-whisper==20240930) (3.1.3)\n",
      "Requirement already satisfied: fsspec in c:\\users\\miche\\appdata\\local\\programs\\python\\python312\\lib\\site-packages (from torch->openai-whisper==20240930) (2025.2.0)\n",
      "Requirement already satisfied: setuptools in c:\\users\\miche\\appdata\\local\\programs\\python\\python312\\lib\\site-packages (from torch->openai-whisper==20240930) (70.1.1)\n",
      "Requirement already satisfied: sympy==1.13.1 in c:\\users\\miche\\appdata\\local\\programs\\python\\python312\\lib\\site-packages (from torch->openai-whisper==20240930) (1.13.1)\n",
      "Requirement already satisfied: mpmath<1.4,>=1.1.0 in c:\\users\\miche\\appdata\\local\\programs\\python\\python312\\lib\\site-packages (from sympy==1.13.1->torch->openai-whisper==20240930) (1.3.0)\n",
      "Requirement already satisfied: colorama in c:\\users\\miche\\appdata\\roaming\\python\\python312\\site-packages (from tqdm->openai-whisper==20240930) (0.4.6)\n",
      "Requirement already satisfied: charset-normalizer<4,>=2 in c:\\users\\miche\\appdata\\local\\programs\\python\\python312\\lib\\site-packages (from requests>=2.26.0->tiktoken->openai-whisper==20240930) (3.3.2)\n",
      "Requirement already satisfied: idna<4,>=2.5 in c:\\users\\miche\\appdata\\local\\programs\\python\\python312\\lib\\site-packages (from requests>=2.26.0->tiktoken->openai-whisper==20240930) (3.7)\n",
      "Requirement already satisfied: urllib3<3,>=1.21.1 in c:\\users\\miche\\appdata\\local\\programs\\python\\python312\\lib\\site-packages (from requests>=2.26.0->tiktoken->openai-whisper==20240930) (2.2.1)\n",
      "Requirement already satisfied: certifi>=2017.4.17 in c:\\users\\miche\\appdata\\local\\programs\\python\\python312\\lib\\site-packages (from requests>=2.26.0->tiktoken->openai-whisper==20240930) (2024.2.2)\n",
      "Requirement already satisfied: MarkupSafe>=2.0 in c:\\users\\miche\\appdata\\local\\programs\\python\\python312\\lib\\site-packages (from jinja2->torch->openai-whisper==20240930) (2.1.5)\n",
      "Building wheels for collected packages: openai-whisper\n",
      "  Building wheel for openai-whisper (pyproject.toml): started\n",
      "  Building wheel for openai-whisper (pyproject.toml): finished with status 'done'\n",
      "  Created wheel for openai-whisper: filename=openai_whisper-20240930-py3-none-any.whl size=813013 sha256=fe156e1aea84d90b8c03da70a8a215bea0009f30bbffaf091ff3c970c98a63ce\n",
      "  Stored in directory: C:\\Users\\miche\\AppData\\Local\\Temp\\pip-ephem-wheel-cache-tni5iqys\\wheels\\c3\\03\\25\\5e0ba78bc27a3a089f137c9f1d92fdfce16d06996c071a016c\n",
      "Successfully built openai-whisper\n",
      "Installing collected packages: openai-whisper\n",
      "Successfully installed openai-whisper-20240930\n"
     ]
    },
    {
     "name": "stderr",
     "output_type": "stream",
     "text": [
      "  Running command git clone --filter=blob:none --quiet https://github.com/openai/whisper.git 'C:\\Users\\miche\\AppData\\Local\\Temp\\pip-req-build-e10b0x4z'\n",
      "\n",
      "[notice] A new release of pip is available: 24.1.1 -> 25.0\n",
      "[notice] To update, run: python.exe -m pip install --upgrade pip\n"
     ]
    },
    {
     "name": "stdout",
     "output_type": "stream",
     "text": [
      "Collecting blobfile\n",
      "  Downloading blobfile-3.0.0-py3-none-any.whl.metadata (15 kB)\n",
      "Collecting pycryptodomex>=3.8 (from blobfile)\n",
      "  Downloading pycryptodomex-3.21.0-cp36-abi3-win_amd64.whl.metadata (3.4 kB)\n",
      "Requirement already satisfied: urllib3<3,>=1.25.3 in c:\\users\\miche\\appdata\\local\\programs\\python\\python312\\lib\\site-packages (from blobfile) (2.2.1)\n",
      "Collecting lxml>=4.9 (from blobfile)\n",
      "  Downloading lxml-5.3.0-cp312-cp312-win_amd64.whl.metadata (3.9 kB)\n",
      "Requirement already satisfied: filelock>=3.0 in c:\\users\\miche\\appdata\\local\\programs\\python\\python312\\lib\\site-packages (from blobfile) (3.17.0)\n",
      "Downloading blobfile-3.0.0-py3-none-any.whl (75 kB)\n",
      "   ---------------------------------------- 0.0/75.4 kB ? eta -:--:--\n",
      "   ---------------------------------------- 75.4/75.4 kB 2.1 MB/s eta 0:00:00\n",
      "Downloading lxml-5.3.0-cp312-cp312-win_amd64.whl (3.8 MB)\n",
      "   ---------------------------------------- 0.0/3.8 MB ? eta -:--:--\n",
      "   - -------------------------------------- 0.1/3.8 MB 3.6 MB/s eta 0:00:02\n",
      "   --- ------------------------------------ 0.3/3.8 MB 4.4 MB/s eta 0:00:01\n",
      "   ---- ----------------------------------- 0.4/3.8 MB 3.7 MB/s eta 0:00:01\n",
      "   ------ --------------------------------- 0.6/3.8 MB 3.6 MB/s eta 0:00:01\n",
      "   ------- -------------------------------- 0.7/3.8 MB 3.6 MB/s eta 0:00:01\n",
      "   --------- ------------------------------ 0.9/3.8 MB 3.4 MB/s eta 0:00:01\n",
      "   ----------- ---------------------------- 1.1/3.8 MB 3.4 MB/s eta 0:00:01\n",
      "   ------------ --------------------------- 1.2/3.8 MB 3.4 MB/s eta 0:00:01\n",
      "   -------------- ------------------------- 1.4/3.8 MB 3.4 MB/s eta 0:00:01\n",
      "   --------------- ------------------------ 1.5/3.8 MB 3.4 MB/s eta 0:00:01\n",
      "   ----------------- ---------------------- 1.7/3.8 MB 3.4 MB/s eta 0:00:01\n",
      "   ------------------ --------------------- 1.8/3.8 MB 3.4 MB/s eta 0:00:01\n",
      "   -------------------- ------------------- 1.9/3.8 MB 3.3 MB/s eta 0:00:01\n",
      "   --------------------- ------------------ 2.1/3.8 MB 3.4 MB/s eta 0:00:01\n",
      "   ---------------------- ----------------- 2.2/3.8 MB 3.3 MB/s eta 0:00:01\n",
      "   ------------------------ --------------- 2.4/3.8 MB 3.3 MB/s eta 0:00:01\n",
      "   -------------------------- ------------- 2.6/3.8 MB 3.3 MB/s eta 0:00:01\n",
      "   ---------------------------- ----------- 2.7/3.8 MB 3.3 MB/s eta 0:00:01\n",
      "   ----------------------------- ---------- 2.8/3.8 MB 3.4 MB/s eta 0:00:01\n",
      "   ------------------------------- -------- 3.0/3.8 MB 3.4 MB/s eta 0:00:01\n",
      "   -------------------------------- ------- 3.1/3.8 MB 3.3 MB/s eta 0:00:01\n",
      "   ---------------------------------- ----- 3.3/3.8 MB 3.4 MB/s eta 0:00:01\n",
      "   ----------------------------------- ---- 3.4/3.8 MB 3.4 MB/s eta 0:00:01\n",
      "   ------------------------------------- -- 3.5/3.8 MB 3.4 MB/s eta 0:00:01\n",
      "   -------------------------------------- - 3.7/3.8 MB 3.4 MB/s eta 0:00:01\n",
      "   ---------------------------------------  3.8/3.8 MB 3.4 MB/s eta 0:00:01\n",
      "   ---------------------------------------- 3.8/3.8 MB 3.3 MB/s eta 0:00:00\n",
      "Downloading pycryptodomex-3.21.0-cp36-abi3-win_amd64.whl (1.8 MB)\n",
      "   ---------------------------------------- 0.0/1.8 MB ? eta -:--:--\n",
      "   --- ------------------------------------ 0.1/1.8 MB 2.8 MB/s eta 0:00:01\n",
      "   ----- ---------------------------------- 0.3/1.8 MB 3.3 MB/s eta 0:00:01\n",
      "   ----- ---------------------------------- 0.3/1.8 MB 3.3 MB/s eta 0:00:01\n",
      "   ------------- -------------------------- 0.6/1.8 MB 3.2 MB/s eta 0:00:01\n",
      "   ---------------- ----------------------- 0.7/1.8 MB 3.4 MB/s eta 0:00:01\n",
      "   -------------------- ------------------- 0.9/1.8 MB 3.4 MB/s eta 0:00:01\n",
      "   ----------------------- ---------------- 1.0/1.8 MB 3.3 MB/s eta 0:00:01\n",
      "   ------------------------- -------------- 1.2/1.8 MB 3.4 MB/s eta 0:00:01\n",
      "   ---------------------------- ----------- 1.3/1.8 MB 3.3 MB/s eta 0:00:01\n",
      "   -------------------------------- ------- 1.5/1.8 MB 3.3 MB/s eta 0:00:01\n",
      "   ---------------------------------- ----- 1.6/1.8 MB 3.3 MB/s eta 0:00:01\n",
      "   ------------------------------------- -- 1.7/1.8 MB 3.3 MB/s eta 0:00:01\n",
      "   ---------------------------------------  1.8/1.8 MB 3.3 MB/s eta 0:00:01\n",
      "   ---------------------------------------  1.8/1.8 MB 3.0 MB/s eta 0:00:01\n",
      "   ---------------------------------------  1.8/1.8 MB 2.9 MB/s eta 0:00:01\n",
      "   ---------------------------------------- 1.8/1.8 MB 2.8 MB/s eta 0:00:00\n",
      "Installing collected packages: pycryptodomex, lxml, blobfile\n",
      "Successfully installed blobfile-3.0.0 lxml-5.3.0 pycryptodomex-3.21.0\n"
     ]
    },
    {
     "name": "stderr",
     "output_type": "stream",
     "text": [
      "\n",
      "[notice] A new release of pip is available: 24.1.1 -> 25.0\n",
      "[notice] To update, run: python.exe -m pip install --upgrade pip\n"
     ]
    }
   ],
   "source": [
    "!pip install git+https://github.com/openai/whisper.git\n",
    "!pip install blobfile"
   ]
  },
  {
   "cell_type": "code",
   "execution_count": 12,
   "metadata": {},
   "outputs": [
    {
     "name": "stdout",
     "output_type": "stream",
     "text": [
      "Requirement already satisfied: torch in c:\\users\\miche\\appdata\\local\\programs\\python\\python312\\lib\\site-packages (2.6.0)\n",
      "Requirement already satisfied: filelock in c:\\users\\miche\\appdata\\local\\programs\\python\\python312\\lib\\site-packages (from torch) (3.17.0)\n",
      "Requirement already satisfied: typing-extensions>=4.10.0 in c:\\users\\miche\\appdata\\local\\programs\\python\\python312\\lib\\site-packages (from torch) (4.12.2)\n",
      "Requirement already satisfied: networkx in c:\\users\\miche\\appdata\\local\\programs\\python\\python312\\lib\\site-packages (from torch) (3.4.2)\n",
      "Requirement already satisfied: jinja2 in c:\\users\\miche\\appdata\\local\\programs\\python\\python312\\lib\\site-packages (from torch) (3.1.3)\n",
      "Requirement already satisfied: fsspec in c:\\users\\miche\\appdata\\local\\programs\\python\\python312\\lib\\site-packages (from torch) (2025.2.0)\n",
      "Requirement already satisfied: setuptools in c:\\users\\miche\\appdata\\local\\programs\\python\\python312\\lib\\site-packages (from torch) (70.1.1)\n",
      "Requirement already satisfied: sympy==1.13.1 in c:\\users\\miche\\appdata\\local\\programs\\python\\python312\\lib\\site-packages (from torch) (1.13.1)\n",
      "Requirement already satisfied: mpmath<1.4,>=1.1.0 in c:\\users\\miche\\appdata\\local\\programs\\python\\python312\\lib\\site-packages (from sympy==1.13.1->torch) (1.3.0)\n",
      "Requirement already satisfied: MarkupSafe>=2.0 in c:\\users\\miche\\appdata\\local\\programs\\python\\python312\\lib\\site-packages (from jinja2->torch) (2.1.5)\n"
     ]
    },
    {
     "name": "stderr",
     "output_type": "stream",
     "text": [
      "\n",
      "[notice] A new release of pip is available: 24.1.1 -> 25.0\n",
      "[notice] To update, run: python.exe -m pip install --upgrade pip\n"
     ]
    },
    {
     "name": "stdout",
     "output_type": "stream",
     "text": [
      "Collecting imageio[ffmpeg]\n",
      "  Downloading imageio-2.37.0-py3-none-any.whl.metadata (5.2 kB)\n",
      "Requirement already satisfied: numpy in c:\\users\\miche\\appdata\\local\\programs\\python\\python312\\lib\\site-packages (from imageio[ffmpeg]) (1.26.4)\n",
      "Requirement already satisfied: pillow>=8.3.2 in c:\\users\\miche\\appdata\\local\\programs\\python\\python312\\lib\\site-packages (from imageio[ffmpeg]) (10.3.0)\n",
      "Requirement already satisfied: imageio-ffmpeg in c:\\users\\miche\\appdata\\local\\programs\\python\\python312\\lib\\site-packages (from imageio[ffmpeg]) (0.6.0)\n",
      "Requirement already satisfied: psutil in c:\\users\\miche\\appdata\\roaming\\python\\python312\\site-packages (from imageio[ffmpeg]) (5.9.8)\n",
      "Downloading imageio-2.37.0-py3-none-any.whl (315 kB)\n",
      "   ---------------------------------------- 0.0/315.8 kB ? eta -:--:--\n",
      "   -------------- ------------------------- 112.6/315.8 kB 3.2 MB/s eta 0:00:01\n",
      "   ------------------------------------ --- 286.7/315.8 kB 2.9 MB/s eta 0:00:01\n",
      "   ---------------------------------------- 315.8/315.8 kB 3.3 MB/s eta 0:00:00\n",
      "Installing collected packages: imageio\n",
      "Successfully installed imageio-2.37.0\n"
     ]
    },
    {
     "name": "stderr",
     "output_type": "stream",
     "text": [
      "\n",
      "[notice] A new release of pip is available: 24.1.1 -> 25.0\n",
      "[notice] To update, run: python.exe -m pip install --upgrade pip\n"
     ]
    }
   ],
   "source": [
    "!pip install torch\n",
    "!pip install imageio[ffmpeg]"
   ]
  },
  {
   "cell_type": "code",
   "execution_count": 1,
   "metadata": {},
   "outputs": [
    {
     "name": "stderr",
     "output_type": "stream",
     "text": [
      "c:\\Users\\miche\\AppData\\Local\\Programs\\Python\\Python312\\Lib\\site-packages\\torch\\utils\\_pytree.py:185: FutureWarning: optree is installed but the version is too old to support PyTorch Dynamo in C++ pytree. C++ pytree support is disabled. Please consider upgrading optree using `python3 -m pip install --upgrade 'optree>=0.13.0'`.\n",
      "  warnings.warn(\n"
     ]
    },
    {
     "name": "stdout",
     "output_type": "stream",
     "text": [
      "Absoluter Pfad zur Datei: c:\\Users\\miche\\Documents\\KI\\whisper\\Pfad zu Datei.m4a\n"
     ]
    },
    {
     "ename": "FileNotFoundError",
     "evalue": "Die Datei c:\\Users\\miche\\Documents\\KI\\whisper\\Pfad zu Datei.m4a wurde nicht gefunden.",
     "output_type": "error",
     "traceback": [
      "\u001b[1;31m---------------------------------------------------------------------------\u001b[0m",
      "\u001b[1;31mFileNotFoundError\u001b[0m                         Traceback (most recent call last)",
      "Cell \u001b[1;32mIn[1], line 10\u001b[0m\n\u001b[0;32m      8\u001b[0m \u001b[38;5;66;03m# Überprüfen, ob die Datei existiert\u001b[39;00m\n\u001b[0;32m      9\u001b[0m \u001b[38;5;28;01mif\u001b[39;00m \u001b[38;5;129;01mnot\u001b[39;00m os\u001b[38;5;241m.\u001b[39mpath\u001b[38;5;241m.\u001b[39misfile(audio_file):\n\u001b[1;32m---> 10\u001b[0m     \u001b[38;5;28;01mraise\u001b[39;00m \u001b[38;5;167;01mFileNotFoundError\u001b[39;00m(\u001b[38;5;124mf\u001b[39m\u001b[38;5;124m\"\u001b[39m\u001b[38;5;124mDie Datei \u001b[39m\u001b[38;5;132;01m{\u001b[39;00maudio_file\u001b[38;5;132;01m}\u001b[39;00m\u001b[38;5;124m wurde nicht gefunden.\u001b[39m\u001b[38;5;124m\"\u001b[39m)\n\u001b[0;32m     11\u001b[0m \u001b[38;5;28;01melse\u001b[39;00m:\n\u001b[0;32m     12\u001b[0m     \u001b[38;5;28mprint\u001b[39m(\u001b[38;5;124mf\u001b[39m\u001b[38;5;124m\"\u001b[39m\u001b[38;5;124mDie Datei \u001b[39m\u001b[38;5;132;01m{\u001b[39;00maudio_file\u001b[38;5;132;01m}\u001b[39;00m\u001b[38;5;124m wurde gefunden.\u001b[39m\u001b[38;5;124m\"\u001b[39m)\n",
      "\u001b[1;31mFileNotFoundError\u001b[0m: Die Datei c:\\Users\\miche\\Documents\\KI\\whisper\\Pfad zu Datei.m4a wurde nicht gefunden."
     ]
    }
   ],
   "source": [
    "import whisper\n",
    "import os\n",
    "\n",
    "# Absoluten Pfad zur Datei ermitteln\n",
    "audio_file = os.path.abspath(\"Pfad zu Datei.m4a\") # Kann auch eine andere Audio-Datei sein\n",
    "print(f\"Absoluter Pfad zur Datei: {audio_file}\")\n",
    "\n",
    "# Überprüfen, ob die Datei existiert\n",
    "if not os.path.isfile(audio_file):\n",
    "    raise FileNotFoundError(f\"Die Datei {audio_file} wurde nicht gefunden.\")\n",
    "else:\n",
    "    print(f\"Die Datei {audio_file} wurde gefunden.\")\n",
    "\n",
    "# Whisper-Modell laden\n",
    "model = whisper.load_model(\"medium\")  # Es kann zwischen \"small\", \"medium\", oder \"large\" unterschieden werden um ie Genauigkeit zu erhöhen.\n",
    "\n",
    "# Transkription starten\n",
    "print(\"Transkription wird ausgeführt...\")\n",
    "result = model.transcribe(audio_file)\n",
    "\n",
    "# Transkribierten Text anzeigen\n",
    "transcribed_text = result[\"text\"]\n",
    "print(\"Transkribierter Text:\")\n",
    "print(transcribed_text)\n",
    "\n",
    "# Text formatieren: Nach jedem Punkt eine neue Zeile\n",
    "formatted_text = transcribed_text.replace('. ', '.\\n')\n",
    "\n",
    "# Formatierten Text anzeigen\n",
    "print(\"Formatierter Text:\")\n",
    "print(formatted_text)\n",
    "\n",
    "# Optional: Formatierten Text in einer Datei speichern\n",
    "with open(\"Name_der_Datei\", \"w\", encoding=\"utf-8\") as f:\n",
    "    f.write(formatted_text)\n",
    "print(\"Formatierte Transkription gespeichert in 'Name_der_Datei'\")"
   ]
  }
 ],
 "metadata": {
  "kernelspec": {
   "display_name": "Python 3",
   "language": "python",
   "name": "python3"
  },
  "language_info": {
   "codemirror_mode": {
    "name": "ipython",
    "version": 3
   },
   "file_extension": ".py",
   "mimetype": "text/x-python",
   "name": "python",
   "nbconvert_exporter": "python",
   "pygments_lexer": "ipython3",
   "version": "3.12.3"
  }
 },
 "nbformat": 4,
 "nbformat_minor": 2
}
